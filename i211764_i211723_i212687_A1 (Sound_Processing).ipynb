{
 "cells": [
  {
   "attachments": {},
   "cell_type": "markdown",
   "id": "a455d3ef",
   "metadata": {},
   "source": [
    "# Assignment 1\n",
    "# Big Data Analytics\n",
    "\n",
    "# Group members : \n",
    "## Mohammad Osman 21i-1723\n",
    "## Muhammad Mubashir Hassan 21i-1764\n",
    "## Abdul Moiz Amjad 21i-2687\n",
    "\n",
    "## section : BS(DS) - M\n",
    "\n"
   ]
  },
  {
   "cell_type": "markdown",
   "id": "0fdd10d1",
   "metadata": {},
   "source": [
    "# Libraries"
   ]
  },
  {
   "cell_type": "code",
   "execution_count": 1,
   "id": "030f8b83",
   "metadata": {},
   "outputs": [
    {
     "name": "stderr",
     "output_type": "stream",
     "text": [
      "C:\\Users\\Mubashir\\anaconda3\\lib\\site-packages\\paramiko\\transport.py:219: CryptographyDeprecationWarning: Blowfish has been deprecated\n",
      "  \"class\": algorithms.Blowfish,\n"
     ]
    }
   ],
   "source": [
    "import numpy as np      \n",
    "import scipy.io.wavfile \n",
    "import subprocess\n",
    "import librosa\n",
    "import librosa.display\n",
    "import IPython.display as ipd\n",
    "from random import shuffle\n",
    "import pandas as pd\n",
    "from pathlib import Path, PurePath   \n",
    "from tqdm import tqdm\n",
    "import pickle as pickle\n",
    "import random\n",
    "import pandas as pd\n",
    "import librosa\n",
    "import soundfile as sf\n",
    "import numpy as np\n",
    "from csv import writer\n",
    "audio_path = \"001040.mp3\"\n",
    "import sys\n",
    "import datetime;\n",
    "\n"
   ]
  },
  {
   "cell_type": "markdown",
   "id": "8ba78dfd",
   "metadata": {},
   "source": [
    "# Functions Used"
   ]
  },
  {
   "cell_type": "code",
   "execution_count": 2,
   "id": "8955cc81",
   "metadata": {},
   "outputs": [
    {
     "name": "stdout",
     "output_type": "stream",
     "text": [
      "current time:- 2023-02-19 17:59:48.789915\n",
      "timestamp:- 1676811588.789915\n"
     ]
    }
   ],
   "source": [
    "def append_list_as_row(file_name, list_of_elem):\n",
    "    # Open file in append mode\n",
    "    with open(file_name, 'a+', newline='') as write_obj:\n",
    "        # Create a writer object from csv module\n",
    "        csv_writer = writer(write_obj)\n",
    "        # Add contents of list as last row in the csv file\n",
    "        csv_writer.writerow(list_of_elem)\n",
    "        \n",
    "import math\n",
    "def IsPrime(num):\n",
    "    a=2\n",
    "    while a<=math.sqrt(num):\n",
    "        if num%a<1:\n",
    "            return False\n",
    "        a=a+1\n",
    "    return num>1\n",
    "\n",
    "import numpy as np\n",
    "\n",
    "def jaccard_set(list1, list2):\n",
    "    \"\"\"Define Jaccard Similarity function for two sets\"\"\"\n",
    "    intersection = len(list(set(list1).intersection(list2)))\n",
    "    union = (len(list1) + len(list2)) - intersection\n",
    "    return float(intersection) / union\n",
    "\n",
    "def jaccard_similarity(a, b):\n",
    "    #Find intersection of two sets\n",
    "    intersection = np.intersect1d(a, b)\n",
    "\n",
    "    union = np.union1d(a, b)\n",
    "\n",
    "\n",
    "    similarity = len(intersection)/len(union)\n",
    "\n",
    "    \n",
    "    return similarity\n",
    "\n",
    "ct = datetime.datetime.now()\n",
    "print(\"current time:-\", ct)\n",
    " \n",
    "# ts store timestamp of current time\n",
    "ts = ct.timestamp()\n",
    "print(\"timestamp:-\", ts)"
   ]
  },
  {
   "cell_type": "markdown",
   "id": "10afc6a8",
   "metadata": {},
   "source": [
    "# FULL CODE ATTEMPT"
   ]
  },
  {
   "cell_type": "code",
   "execution_count": 73,
   "id": "d9401b0e",
   "metadata": {},
   "outputs": [
    {
     "name": "stdout",
     "output_type": "stream",
     "text": [
      "001039.mp3\n"
     ]
    },
    {
     "name": "stderr",
     "output_type": "stream",
     "text": [
      "C:\\Users\\Mubashir\\AppData\\Local\\Temp\\ipykernel_15852\\4249229025.py:38: FutureWarning: Pass size=1300 as keyword args. From version 0.10 passing these as positional arguments will result in an error\n",
      "  mfccs_padded = librosa.util.pad_center(mfccs, max_length, axis=1)\n"
     ]
    },
    {
     "name": "stdout",
     "output_type": "stream",
     "text": [
      "001040.mp3\n",
      "001066.mp3\n",
      "001069.mp3\n",
      "001073.mp3\n",
      "001075.mp3\n",
      "001082.mp3\n",
      "001083.mp3\n",
      "001087.mp3\n",
      "001102.mp3\n",
      "001193.mp3\n",
      "001195.mp3\n",
      "001196.mp3\n",
      "001197.mp3\n",
      "001249.mp3\n",
      "001259.mp3\n",
      "001270.mp3\n",
      "001276.mp3\n",
      "001277.mp3\n",
      "001278.mp3\n",
      "001417.mp3\n",
      "001427.mp3\n",
      "001443.mp3\n",
      "001482.mp3\n",
      "001510.mp3\n",
      "001544.mp3\n",
      "001642.mp3\n",
      "001644.mp3\n",
      "001649.mp3\n",
      "001661.mp3\n",
      "001663.mp3\n",
      "001666.mp3\n",
      "001673.mp3\n",
      "001680.mp3\n",
      "001681.mp3\n",
      "001682.mp3\n",
      "001683.mp3\n",
      "001684.mp3\n",
      "001685.mp3\n",
      "001686.mp3\n",
      "001687.mp3\n",
      "001688.mp3\n",
      "001689.mp3\n",
      "001701.mp3\n",
      "001702.mp3\n",
      "001703.mp3\n",
      "001704.mp3\n",
      "001706.mp3\n",
      "001720.mp3\n",
      "001732.mp3\n",
      "001733.mp3\n",
      "001735.mp3\n",
      "001736.mp3\n",
      "001883.mp3\n",
      "001891.mp3\n",
      "001893.mp3\n",
      "001924.mp3\n",
      "001925.mp3\n",
      "001929.mp3\n",
      "001930.mp3\n",
      "[[0, 0, 1, 1, 1, 0, 0, 0, 1, 1, 0, 0, 1, 0, 1, 0, 1, 1, 1, 1, 1, 0, 1, 2, 1, 1, 2, 0, 0, 2, 1, 0, 2, 0, 0, 2, 0, 1, 1, 1, 0, 1, 1, 1, 0, 1, 1, 2, 0, 1, '001039.mp3'], [1, 0, 1, 1, 1, 1, 0, 0, 1, 1, 0, 1, 1, 0, 1, 0, 1, 1, 1, 1, 1, 0, 1, 2, 1, 1, 2, 0, 1, 2, 1, 0, 2, 0, 0, 2, 1, 1, 1, 1, 0, 1, 1, 1, 1, 1, 1, 2, 0, 1, '001040.mp3'], [0, 0, 2, 1, 1, 1, 0, 0, 2, 2, 0, 0, 0, 0, 1, 0, 1, 1, 2, 1, 1, 0, 1, 3, 1, 1, 2, 0, 0, 3, 1, 0, 3, 0, 0, 2, 1, 1, 1, 2, 0, 1, 2, 1, 0, 1, 1, 2, 0, 1, '001066.mp3'], [2, 0, 2, 2, 1, 1, 0, 0, 2, 2, 0, 1, 0, 0, 0, 0, 1, 1, 2, 1, 2, 0, 1, 3, 1, 1, 2, 0, 1, 3, 1, 0, 3, 0, 0, 2, 1, 1, 1, 2, 0, 1, 2, 1, 1, 1, 1, 2, 0, 1, '001069.mp3'], [2, 0, 0, 2, 1, 1, 0, 0, 2, 2, 0, 1, 1, 0, 1, 0, 1, 1, 2, 0, 2, 0, 1, 3, 1, 1, 2, 0, 1, 3, 1, 0, 2, 0, 0, 2, 1, 1, 1, 2, 0, 1, 2, 1, 0, 1, 1, 2, 0, 1, '001073.mp3'], [0, 0, 0, 0, 0, 0, 0, 0, 1, 0, 0, 0, 0, 0, 0, 0, 1, 1, 2, 0, 1, 0, 1, 2, 1, 1, 1, 0, 0, 1, 1, 0, 2, 0, 0, 2, 0, 1, 1, 2, 0, 1, 2, 1, 0, 1, 1, 2, 0, 0, '001075.mp3'], [2, 1, 3, 2, 1, 3, 2, 1, 3, 2, 1, 3, 2, 0, 2, 0, 1, 3, 2, 1, 3, 2, 1, 3, 2, 1, 3, 2, 1, 3, 2, 1, 3, 1, 1, 3, 2, 1, 3, 2, 1, 3, 2, 1, 3, 2, 1, 3, 2, 1, '001082.mp3'], [2, 0, 0, 2, 1, 1, 0, 0, 2, 2, 0, 1, 1, 1, 1, 0, 1, 1, 2, 0, 2, 0, 1, 3, 1, 1, 2, 0, 1, 3, 1, 0, 2, 0, 0, 2, 1, 1, 1, 2, 0, 1, 2, 1, 0, 1, 1, 2, 0, 1, '001083.mp3'], [2, 0, 0, 2, 1, 1, 0, 0, 2, 2, 0, 1, 1, 1, 1, 0, 1, 1, 2, 0, 2, 0, 1, 3, 1, 1, 2, 0, 1, 3, 1, 0, 2, 0, 0, 2, 1, 1, 1, 2, 0, 1, 2, 1, 0, 1, 1, 2, 0, 1, '001087.mp3'], [0, 0, 0, 0, 1, 0, 0, 0, 2, 1, 0, 0, 1, 0, 0, 0, 1, 1, 2, 0, 1, 0, 1, 3, 1, 1, 1, 0, 0, 2, 1, 0, 2, 0, 0, 2, 0, 1, 1, 2, 0, 1, 2, 1, 0, 1, 1, 2, 0, 1, '001102.mp3'], [0, 0, 2, 1, 0, 1, 0, 1, 2, 2, 0, 1, 1, 1, 1, 1, 1, 1, 2, 0, 1, 0, 1, 2, 2, 1, 1, 0, 0, 1, 1, 0, 3, 0, 0, 3, 0, 1, 1, 2, 0, 2, 2, 1, 0, 1, 1, 2, 0, 0, '001193.mp3'], [0, 0, 1, 1, 1, 2, 0, 1, 1, 2, 0, 1, 2, 1, 1, 1, 1, 1, 1, 0, 1, 2, 1, 3, 2, 1, 2, 0, 0, 3, 1, 0, 2, 0, 1, 3, 1, 1, 1, 2, 0, 2, 2, 1, 2, 2, 1, 2, 0, 0, '001195.mp3'], [0, 0, 2, 1, 1, 1, 0, 0, 2, 2, 0, 0, 1, 0, 1, 0, 1, 1, 2, 1, 1, 0, 1, 3, 1, 1, 2, 0, 0, 3, 1, 0, 3, 0, 0, 2, 1, 1, 1, 2, 0, 1, 2, 1, 0, 1, 1, 2, 0, 1, '001196.mp3'], [0, 0, 1, 1, 1, 2, 0, 1, 3, 2, 0, 1, 2, 1, 1, 1, 1, 1, 2, 0, 1, 2, 1, 3, 2, 1, 2, 0, 0, 3, 1, 0, 2, 0, 1, 3, 1, 1, 1, 2, 0, 2, 2, 1, 2, 2, 1, 2, 0, 1, '001197.mp3'], [1, 0, 1, 1, 1, 1, 0, 0, 1, 1, 0, 1, 1, 0, 1, 0, 1, 1, 1, 1, 1, 0, 1, 2, 1, 1, 2, 0, 1, 2, 1, 0, 2, 0, 0, 2, 1, 1, 1, 1, 0, 1, 1, 1, 1, 1, 1, 2, 0, 1, '001249.mp3'], [2, 0, 2, 2, 1, 1, 0, 0, 2, 2, 0, 1, 1, 0, 1, 0, 1, 1, 2, 1, 2, 0, 1, 3, 1, 1, 2, 0, 1, 3, 1, 0, 3, 0, 0, 2, 1, 1, 1, 2, 0, 1, 2, 1, 1, 1, 1, 2, 0, 1, '001259.mp3'], [0, 1, 2, 1, 1, 1, 0, 0, 2, 2, 0, 0, 1, 0, 3, 1, 1, 1, 2, 1, 1, 0, 1, 3, 1, 1, 2, 0, 0, 3, 2, 0, 3, 0, 0, 2, 1, 1, 1, 2, 1, 1, 2, 1, 0, 1, 1, 2, 0, 1, '001270.mp3'], [1, 0, 2, 2, 0, 1, 0, 0, 1, 2, 0, 0, 1, 0, 1, 0, 1, 1, 2, 0, 2, 0, 1, 2, 1, 1, 1, 0, 1, 1, 1, 0, 3, 0, 0, 2, 0, 1, 1, 2, 0, 1, 2, 1, 1, 1, 1, 2, 0, 0, '001276.mp3'], [2, 0, 2, 2, 1, 1, 0, 0, 2, 2, 0, 1, 1, 0, 1, 0, 1, 1, 2, 1, 2, 0, 1, 3, 1, 1, 2, 0, 1, 3, 1, 0, 3, 0, 0, 2, 1, 1, 1, 2, 0, 1, 2, 1, 1, 1, 1, 2, 0, 1, '001277.mp3'], [2, 0, 2, 2, 1, 1, 0, 0, 2, 2, 0, 2, 1, 1, 1, 1, 1, 1, 2, 1, 2, 0, 1, 3, 2, 1, 2, 0, 1, 3, 1, 0, 3, 0, 0, 2, 1, 1, 1, 2, 0, 1, 2, 1, 1, 1, 1, 2, 0, 1, '001278.mp3'], [0, 0, 2, 1, 1, 1, 0, 0, 3, 2, 0, 1, 1, 0, 1, 0, 1, 1, 2, 1, 1, 0, 1, 3, 2, 1, 2, 0, 0, 3, 1, 0, 3, 0, 0, 2, 1, 1, 1, 2, 0, 2, 2, 1, 0, 1, 1, 2, 0, 1, '001417.mp3'], [2, 0, 3, 2, 1, 1, 0, 0, 2, 2, 0, 1, 1, 0, 1, 0, 1, 1, 2, 1, 2, 2, 1, 3, 1, 1, 2, 0, 1, 3, 1, 0, 3, 0, 0, 2, 1, 1, 1, 2, 0, 1, 2, 1, 1, 2, 1, 2, 0, 1, '001427.mp3'], [0, 0, 2, 1, 1, 1, 0, 0, 2, 2, 0, 0, 1, 0, 1, 1, 1, 1, 2, 1, 1, 0, 1, 3, 1, 1, 2, 0, 0, 3, 1, 0, 3, 0, 0, 2, 1, 1, 1, 2, 0, 1, 2, 1, 0, 1, 1, 2, 0, 1, '001443.mp3'], [0, 0, 0, 0, 0, 0, 0, 0, 2, 1, 0, 0, 0, 0, 0, 0, 1, 1, 2, 0, 1, 0, 1, 2, 1, 1, 1, 0, 0, 1, 1, 0, 2, 0, 0, 2, 0, 1, 1, 2, 0, 2, 2, 1, 0, 1, 1, 2, 0, 0, '001482.mp3'], [0, 1, 2, 1, 1, 2, 0, 0, 2, 2, 0, 0, 2, 1, 3, 1, 1, 1, 2, 1, 1, 0, 1, 3, 1, 1, 2, 0, 0, 3, 2, 0, 3, 0, 1, 2, 1, 1, 1, 2, 1, 1, 2, 1, 0, 1, 1, 2, 0, 1, '001510.mp3'], [2, 1, 3, 2, 1, 2, 0, 0, 1, 0, 0, 3, 2, 0, 2, 0, 1, 1, 1, 1, 2, 1, 1, 3, 2, 1, 2, 0, 1, 3, 2, 0, 3, 1, 1, 2, 1, 1, 1, 2, 1, 2, 2, 1, 1, 2, 1, 2, 0, 0, '001544.mp3'], [2, 0, 2, 2, 1, 1, 0, 0, 2, 2, 0, 1, 1, 0, 1, 0, 1, 1, 2, 1, 2, 0, 1, 3, 1, 1, 2, 0, 1, 3, 1, 0, 3, 0, 0, 2, 1, 1, 1, 2, 0, 1, 2, 1, 1, 1, 1, 2, 0, 1, '001642.mp3'], [1, 0, 1, 1, 1, 1, 0, 0, 1, 1, 0, 2, 1, 0, 1, 0, 1, 1, 1, 1, 1, 0, 1, 2, 1, 1, 2, 0, 1, 2, 1, 0, 2, 0, 0, 2, 1, 1, 1, 1, 0, 1, 1, 1, 1, 1, 1, 2, 0, 1, '001644.mp3'], [1, 0, 1, 1, 1, 1, 0, 0, 1, 1, 0, 1, 1, 0, 1, 0, 1, 1, 1, 1, 1, 0, 1, 2, 1, 1, 2, 0, 1, 2, 1, 0, 2, 0, 0, 2, 1, 1, 1, 1, 0, 1, 1, 1, 1, 1, 1, 2, 0, 1, '001649.mp3'], [1, 0, 1, 1, 1, 1, 0, 0, 1, 1, 0, 1, 1, 0, 1, 0, 1, 1, 1, 1, 1, 0, 1, 2, 1, 1, 2, 0, 1, 2, 1, 0, 2, 0, 0, 2, 1, 1, 1, 1, 0, 1, 1, 1, 1, 1, 1, 2, 0, 1, '001661.mp3'], [2, 0, 2, 2, 1, 0, 0, 0, 3, 2, 0, 2, 1, 1, 1, 1, 1, 1, 2, 1, 2, 0, 1, 3, 2, 1, 2, 0, 1, 2, 1, 0, 3, 0, 0, 2, 0, 1, 1, 2, 0, 2, 2, 1, 1, 1, 1, 2, 0, 1, '001663.mp3'], [2, 0, 2, 2, 1, 1, 0, 1, 2, 0, 0, 1, 1, 0, 0, 0, 1, 1, 2, 1, 2, 0, 1, 3, 1, 1, 2, 0, 1, 3, 1, 0, 3, 0, 0, 3, 1, 1, 1, 2, 0, 1, 2, 1, 3, 1, 1, 2, 0, 1, '001666.mp3'], [2, 0, 2, 2, 1, 3, 2, 1, 2, 2, 1, 2, 2, 0, 0, 0, 1, 2, 2, 1, 2, 0, 1, 3, 2, 1, 3, 2, 1, 3, 1, 0, 3, 0, 1, 3, 2, 1, 3, 2, 0, 2, 2, 1, 3, 1, 1, 3, 2, 1, '001673.mp3'], [2, 0, 3, 2, 1, 2, 0, 0, 3, 2, 0, 1, 2, 1, 1, 1, 1, 1, 2, 1, 2, 2, 1, 3, 1, 1, 2, 0, 1, 3, 1, 0, 3, 0, 1, 2, 1, 1, 1, 2, 0, 2, 2, 1, 1, 2, 1, 2, 0, 1, '001680.mp3'], [2, 0, 3, 2, 1, 1, 0, 0, 3, 2, 0, 2, 1, 1, 1, 0, 1, 1, 2, 1, 2, 2, 1, 3, 2, 1, 2, 0, 1, 3, 1, 0, 3, 0, 0, 2, 1, 1, 1, 2, 0, 2, 2, 1, 1, 2, 1, 2, 0, 1, '001681.mp3'], [2, 0, 3, 2, 1, 2, 0, 0, 3, 2, 0, 2, 2, 0, 1, 1, 1, 1, 2, 1, 2, 2, 1, 3, 2, 1, 2, 0, 1, 3, 1, 0, 3, 0, 1, 2, 1, 1, 1, 2, 0, 2, 2, 1, 1, 2, 1, 2, 0, 1, '001682.mp3'], [2, 0, 3, 2, 1, 1, 0, 0, 2, 2, 0, 2, 1, 1, 1, 1, 1, 1, 2, 1, 2, 2, 1, 3, 2, 1, 2, 0, 1, 3, 1, 0, 3, 0, 0, 2, 1, 1, 1, 2, 0, 1, 2, 1, 1, 2, 1, 2, 0, 1, '001683.mp3'], [2, 0, 0, 2, 1, 1, 0, 0, 3, 2, 0, 2, 1, 0, 1, 1, 1, 1, 2, 0, 2, 0, 1, 3, 2, 1, 2, 0, 1, 3, 1, 0, 2, 0, 0, 2, 1, 1, 1, 2, 0, 2, 2, 1, 0, 1, 1, 2, 0, 1, '001684.mp3'], [2, 0, 3, 2, 1, 2, 0, 0, 3, 2, 0, 2, 2, 1, 1, 1, 1, 1, 2, 1, 2, 2, 1, 3, 2, 1, 2, 0, 1, 3, 1, 0, 3, 0, 1, 2, 1, 1, 1, 2, 0, 2, 2, 1, 1, 2, 1, 2, 0, 1, '001685.mp3'], [2, 0, 2, 2, 1, 2, 0, 0, 3, 2, 0, 2, 2, 1, 1, 1, 1, 1, 2, 1, 2, 0, 1, 3, 2, 1, 2, 0, 1, 3, 1, 0, 3, 0, 1, 2, 1, 1, 1, 2, 0, 2, 2, 1, 1, 1, 1, 2, 0, 1, '001686.mp3'], [2, 1, 3, 2, 1, 2, 0, 0, 3, 2, 0, 3, 2, 1, 3, 1, 1, 1, 2, 1, 2, 2, 1, 3, 2, 1, 2, 0, 1, 3, 2, 0, 3, 2, 1, 2, 1, 1, 1, 2, 1, 2, 2, 1, 1, 2, 1, 2, 0, 1, '001687.mp3'], [2, 0, 1, 2, 1, 1, 0, 0, 3, 2, 0, 2, 1, 1, 1, 1, 1, 1, 2, 0, 2, 2, 1, 3, 2, 1, 2, 0, 1, 3, 1, 0, 2, 0, 0, 2, 1, 1, 1, 2, 0, 2, 2, 1, 0, 2, 1, 2, 0, 1, '001688.mp3'], [2, 0, 2, 2, 1, 2, 0, 0, 3, 2, 0, 2, 2, 0, 1, 1, 1, 1, 2, 1, 2, 0, 1, 3, 2, 1, 2, 0, 1, 3, 1, 0, 3, 0, 1, 2, 1, 1, 1, 2, 0, 2, 2, 1, 1, 1, 1, 2, 0, 1, '001689.mp3'], [2, 0, 3, 2, 1, 2, 0, 1, 3, 2, 0, 2, 0, 0, 1, 0, 1, 1, 2, 1, 2, 2, 1, 3, 2, 1, 2, 0, 1, 3, 1, 0, 3, 0, 1, 3, 1, 1, 1, 2, 0, 2, 2, 1, 3, 2, 1, 2, 0, 1, '001701.mp3'], [2, 1, 3, 2, 1, 2, 0, 1, 3, 2, 0, 3, 2, 1, 3, 1, 1, 1, 2, 1, 2, 2, 1, 3, 2, 1, 2, 0, 1, 3, 2, 0, 3, 2, 1, 3, 1, 1, 1, 2, 1, 2, 2, 1, 3, 2, 1, 2, 0, 1, '001702.mp3'], [2, 0, 0, 0, 1, 3, 1, 1, 3, 1, 1, 2, 2, 0, 1, 0, 1, 2, 2, 0, 2, 0, 1, 3, 2, 1, 2, 0, 1, 3, 1, 0, 2, 0, 1, 3, 2, 1, 1, 2, 0, 3, 2, 1, 1, 1, 1, 3, 2, 1, '001703.mp3'], [2, 0, 3, 2, 1, 2, 0, 1, 3, 2, 0, 2, 2, 0, 1, 0, 1, 1, 2, 1, 2, 2, 1, 3, 2, 1, 2, 0, 1, 3, 1, 0, 3, 0, 1, 3, 1, 1, 1, 2, 0, 2, 2, 1, 3, 2, 1, 2, 0, 1, '001704.mp3'], [1, 1, 2, 1, 1, 1, 0, 0, 1, 1, 0, 1, 1, 0, 2, 0, 1, 1, 1, 1, 1, 1, 1, 2, 1, 1, 2, 0, 1, 2, 1, 0, 2, 1, 0, 2, 1, 1, 1, 1, 1, 1, 1, 1, 1, 1, 1, 2, 0, 1, '001706.mp3'], [1, 0, 2, 2, 0, 2, 0, 0, 1, 2, 0, 0, 2, 0, 1, 0, 1, 1, 2, 0, 2, 0, 1, 2, 1, 1, 1, 0, 1, 1, 1, 0, 3, 0, 0, 2, 0, 1, 1, 2, 0, 1, 2, 1, 1, 1, 1, 2, 0, 0, '001720.mp3'], [1, 0, 2, 2, 0, 1, 0, 0, 1, 2, 0, 0, 1, 0, 1, 1, 1, 1, 2, 0, 2, 0, 1, 2, 1, 1, 1, 0, 1, 1, 1, 0, 3, 0, 0, 2, 0, 1, 1, 2, 0, 1, 2, 1, 1, 1, 1, 2, 0, 0, '001732.mp3'], [1, 0, 1, 1, 1, 1, 0, 0, 1, 1, 0, 1, 1, 1, 1, 0, 1, 1, 1, 1, 1, 0, 1, 2, 1, 1, 2, 0, 1, 2, 1, 0, 2, 0, 0, 2, 1, 1, 1, 1, 0, 1, 1, 1, 1, 1, 1, 2, 0, 1, '001733.mp3'], [1, 0, 1, 1, 1, 1, 0, 0, 1, 1, 0, 2, 1, 1, 1, 1, 1, 1, 1, 1, 1, 0, 1, 2, 1, 1, 2, 0, 1, 2, 1, 0, 2, 0, 0, 2, 1, 1, 1, 1, 0, 1, 1, 1, 1, 1, 1, 2, 0, 1, '001735.mp3'], [2, 0, 2, 2, 1, 1, 0, 0, 3, 2, 0, 2, 1, 0, 1, 0, 1, 1, 2, 1, 2, 0, 1, 3, 2, 1, 2, 0, 1, 3, 1, 0, 3, 0, 0, 2, 1, 1, 1, 2, 0, 2, 2, 1, 1, 1, 1, 2, 0, 1, '001736.mp3'], [2, 0, 2, 2, 1, 1, 0, 0, 2, 2, 0, 1, 1, 0, 1, 1, 1, 1, 2, 1, 2, 0, 1, 3, 1, 1, 2, 0, 1, 3, 1, 0, 3, 0, 0, 2, 1, 1, 1, 2, 0, 1, 2, 1, 1, 1, 1, 2, 0, 1, '001883.mp3'], [2, 0, 2, 2, 1, 2, 0, 0, 3, 2, 0, 1, 2, 1, 1, 0, 1, 1, 2, 1, 2, 0, 1, 3, 1, 1, 2, 0, 1, 3, 1, 0, 3, 0, 1, 2, 1, 1, 1, 2, 0, 2, 2, 1, 1, 1, 1, 2, 0, 1, '001891.mp3'], [0, 0, 3, 0, 1, 1, 0, 0, 3, 1, 0, 0, 1, 0, 1, 1, 1, 1, 2, 1, 1, 2, 1, 3, 1, 1, 1, 0, 0, 3, 1, 0, 3, 0, 0, 2, 1, 1, 1, 2, 0, 2, 2, 1, 0, 2, 1, 2, 0, 1, '001893.mp3'], [0, 0, 0, 1, 0, 1, 0, 0, 1, 2, 0, 1, 1, 1, 1, 1, 1, 1, 2, 0, 1, 0, 1, 2, 2, 1, 1, 0, 0, 1, 1, 0, 2, 0, 0, 2, 0, 1, 1, 2, 0, 1, 2, 1, 0, 1, 1, 2, 0, 0, '001924.mp3'], [0, 0, 2, 1, 0, 1, 0, 0, 1, 2, 0, 0, 1, 1, 1, 0, 1, 1, 2, 0, 1, 0, 1, 2, 1, 1, 1, 0, 0, 1, 1, 0, 3, 0, 0, 2, 0, 1, 1, 2, 0, 1, 2, 1, 0, 1, 1, 2, 0, 0, '001925.mp3'], [0, 0, 0, 1, 0, 1, 0, 0, 0, 2, 0, 0, 1, 0, 1, 1, 1, 1, 1, 0, 1, 0, 1, 2, 1, 1, 1, 0, 0, 1, 1, 0, 2, 0, 0, 2, 0, 1, 1, 2, 0, 1, 2, 1, 0, 1, 1, 2, 0, 0, '001929.mp3'], [0, 0, 2, 1, 1, 1, 0, 0, 3, 2, 0, 0, 1, 0, 1, 1, 1, 1, 2, 1, 1, 0, 1, 3, 1, 1, 2, 0, 0, 3, 1, 0, 3, 0, 0, 2, 1, 1, 1, 2, 0, 2, 2, 1, 0, 1, 1, 2, 0, 1, '001930.mp3']]\n"
     ]
    }
   ],
   "source": [
    "#thisdict = {}\n",
    "megalist = []\n",
    "\n",
    "primeno = [2, 3, 5, 7, 11, 13, 17, 19, 23, 29, 31, 37, 41, 43, 47, 53, 59, 61, 67, 71, 73]\n",
    "i = 1\n",
    "for i in range(152):\n",
    "    #File Reading LOOP\n",
    "    if(i<10):\n",
    "        path = f'C:/Users/Mubashir/Downloads/Assignment Big Data 1/AudioFiles/00{i}'\n",
    "    elif(i>9 and i<99):\n",
    "        path = f'C:/Users/Mubashir/Downloads/Assignment Big Data 1/AudioFiles/0{i}'\n",
    "    elif(i>99):\n",
    "        path = f'C:/Users/Mubashir/Downloads/Assignment Big Data 1/AudioFiles/{i}'\n",
    "    for filename in glob.glob(os.path.join(path, '*.mp3')):\n",
    "        print(filename[-10:])\n",
    "        x, sample_rate = librosa.load(filename)\n",
    "        mfccs = librosa.feature.mfcc(y=x, sr=sample_rate)\n",
    "        max_length = 1300\n",
    "        mfccs_padded = librosa.util.pad_center(mfccs, max_length, axis=1)\n",
    "        temp = np.random.rand(1300)\n",
    "        #MFCCS PADDED Into 20\n",
    "        final = np.dot(mfccs_padded,temp)\n",
    "        for i in range(len(final)):\n",
    "            if final[i]>0:\n",
    "                final[i]= 1\n",
    "\n",
    "            else:\n",
    "                final[i]=0\n",
    "        \n",
    "        temp = final.astype(int)\n",
    "        #Encoded MFCCS \n",
    "        HashTable = []\n",
    "        for j in range(0,100):\n",
    "            index =[]\n",
    "            zee = []\n",
    "            for i in range(len(temp)):\n",
    "                val = (2*j+9)%primeno[i]\n",
    "                index.append(val)\n",
    "            for k in range (len(temp)):\n",
    "                if temp[k] == 1:\n",
    "                    zee.append(index[k])\n",
    "            HashTable.append(min(zee)) \n",
    "       # print(HashTable)\n",
    "    \n",
    "        # Locality Sensitive HashTable Created \n",
    "        #Now bucket will be created\n",
    "        \n",
    "        bucket1= []\n",
    "        for z in range(0,100,2):\n",
    "            x = HashTable[z]+HashTable[z+1]\n",
    "            bucket1.append(x)\n",
    "       # print(bucket1)\n",
    "      #  if len(thisdict)==0:\n",
    "      #      for i in range(0,len(bucket1)):\n",
    "      #          thisdict.update({bucket1[i]:[filename[-10:]]})\n",
    "      #          print(thisdict)\n",
    "      #  else:\n",
    "      #      for a in thisdict.keys():\n",
    "      #          for j in range(0,10):\n",
    "      #              if a == listtemp[j] and thisdict[a] != [audio_path,\"001066.mp3\"]:\n",
    "      #                  print(\"yo\")\n",
    "      #                  thisdict[a] +=([\"001066.mp3\"])\n",
    "        bucket1.append(filename[-10:])\n",
    "        megalist.append(bucket1)\n",
    "       # if(filename[-10:] == \"001066.mp3\"):\n",
    "       #     break\n",
    "        \n",
    "        \n",
    "#print(megalist)\n",
    "\n",
    "ct = datetime.datetime.now()\n",
    "print(\"current time:-\", ct)\n",
    " \n",
    "# ts store timestamp of current time\n",
    "ts = ct.timestamp()\n",
    "print(\"timestamp:-\", ts)\n"
   ]
  },
  {
   "cell_type": "markdown",
   "id": "aa7ec1e2",
   "metadata": {},
   "source": [
    "# PICKLE Bucket"
   ]
  },
  {
   "cell_type": "code",
   "execution_count": 433,
   "id": "22787f21",
   "metadata": {},
   "outputs": [],
   "source": [
    "import pickle\n",
    "with open('megalist-2.pkl', 'wb') as f:\n",
    "    pickle.dump(megalist, f)\n",
    "    \n",
    "ct = datetime.datetime.now()\n",
    "print(\"current time:-\", ct)\n",
    " \n",
    "# ts store timestamp of current time\n",
    "ts = ct.timestamp()\n",
    "print(\"timestamp:-\", ts)"
   ]
  },
  {
   "cell_type": "markdown",
   "id": "31e966df",
   "metadata": {},
   "source": [
    "# Query Function"
   ]
  },
  {
   "cell_type": "code",
   "execution_count": 5,
   "id": "d6ee9605",
   "metadata": {},
   "outputs": [
    {
     "name": "stdout",
     "output_type": "stream",
     "text": [
      "current time:- 2023-02-19 18:00:44.681247\n",
      "timestamp:- 1676811644.681247\n"
     ]
    },
    {
     "name": "stderr",
     "output_type": "stream",
     "text": [
      "C:\\Users\\Mubashir\\AppData\\Local\\Temp\\ipykernel_18772\\2202446406.py:11: FutureWarning: Pass size=1300 as keyword args. From version 0.10 passing these as positional arguments will result in an error\n",
      "  mfccs_padded = librosa.util.pad_center(mfccs, max_length, axis=1)\n"
     ]
    }
   ],
   "source": [
    "with open('megalist-2.pkl', 'rb') as f:\n",
    "    megalist = pickle.load(f)\n",
    "primeno = [2, 3, 5, 7, 11, 13, 17, 19, 23, 29, 31, 37, 41, 43, 47, 53, 59, 61, 67, 71, 73] #PrimeNo for HashFunctions\n",
    "audio_path = \"001066.mp3\" #Demo File\n",
    "x , sr = librosa.load(audio_path)\n",
    "mfccs = librosa.feature.mfcc(y=x, sr=sr)\n",
    "#print(mfcc)\n",
    "#arr = np.pad(mfcc.flatten(),130)\n",
    "max_length = 1300\n",
    "\n",
    "mfccs_padded = librosa.util.pad_center(mfccs, max_length, axis=1)\n",
    "temp = np.random.rand(1300)\n",
    "final = np.dot(mfccs_padded,temp)\n",
    "for i in range(len(final)):\n",
    "    if final[i]>0:\n",
    "        final[i]= 1\n",
    "\n",
    "    else:\n",
    "        final[i]=0\n",
    "        \n",
    "temp = final.astype(int)\n",
    "HashTable = []\n",
    "#Locality Sensitive Hash Will Be created for query\n",
    "for j in range(0,100):\n",
    "    index =[]\n",
    "    zee = []\n",
    "    for i in range(len(temp)):\n",
    "        val = (2*j+9)%primeno[i]\n",
    "        index.append(val)\n",
    "    for k in range (len(temp)):\n",
    "        if temp[k] == 1:\n",
    "            zee.append(index[k])\n",
    "    HashTable.append(min(zee)) \n",
    "# print(HashTable)\n",
    "#Bucket also created for Query\n",
    "bucketq= []\n",
    "for z in range(0,100,2):\n",
    "    x = HashTable[z]+HashTable[z+1]\n",
    "    bucketq.append(x)\n",
    "#print(bucketq)\n",
    "ct = datetime.datetime.now()\n",
    "print(\"current time:-\", ct)\n",
    " \n",
    "# ts store timestamp of current time\n",
    "ts = ct.timestamp()\n",
    "print(\"timestamp:-\", ts)"
   ]
  },
  {
   "cell_type": "markdown",
   "id": "19df834f",
   "metadata": {},
   "source": [
    "# Jaccard Similarity Code"
   ]
  },
  {
   "cell_type": "code",
   "execution_count": 6,
   "id": "1ee8e63e",
   "metadata": {},
   "outputs": [
    {
     "name": "stdout",
     "output_type": "stream",
     "text": [
      "['001066.mp3']\n",
      "['001039.mp3', '001040.mp3']\n",
      "current time:- 2023-02-19 18:00:47.664370\n",
      "timestamp:- 1676811647.66437\n"
     ]
    }
   ],
   "source": [
    "maximum = -9999\n",
    "similaraudios = []\n",
    "mostsim = []\n",
    "\n",
    "for i in range(0,len(megalist)):       #Compare Bucket in form of Bands\n",
    "   # print(megalist[i][0:50])\n",
    "    if bucketq == megalist[i][0:50]:\n",
    "        mostsim.append(megalist[i][50])\n",
    "        break\n",
    "    for j in range(0,49):\n",
    "        if bucketq[j] == megalist[i][j]:       \n",
    "            arr = np.array(bucketq[0:50])\n",
    "            arr2 =np.array(megalist[i][0:50])\n",
    "            prob = jaccard_similarity(arr,arr2)\n",
    "            if prob>0.6 and similaraudios is not megalist[i][50]:     #If similarity is more than 0.6 store it in List\n",
    "                similaraudios.append(megalist[i][50])\n",
    "                break\n",
    "        break\n",
    "\n",
    "print(mostsim)\n",
    "print(similaraudios)\n",
    "ct = datetime.datetime.now()\n",
    "print(\"current time:-\", ct)\n",
    " \n",
    "# ts store timestamp of current time\n",
    "ts = ct.timestamp()\n",
    "print(\"timestamp:-\", ts)"
   ]
  }
 ],
 "metadata": {
  "kernelspec": {
   "display_name": "Python 3 (ipykernel)",
   "language": "python",
   "name": "python3"
  },
  "language_info": {
   "codemirror_mode": {
    "name": "ipython",
    "version": 3
   },
   "file_extension": ".py",
   "mimetype": "text/x-python",
   "name": "python",
   "nbconvert_exporter": "python",
   "pygments_lexer": "ipython3",
   "version": "3.9.13"
  }
 },
 "nbformat": 4,
 "nbformat_minor": 5
}
